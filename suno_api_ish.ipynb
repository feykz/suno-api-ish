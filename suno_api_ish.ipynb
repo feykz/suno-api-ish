{
 "cells": [
  {
   "cell_type": "code",
   "execution_count": 3,
   "metadata": {},
   "outputs": [],
   "source": [
    "import requests\n",
    "from time import sleep\n",
    "\n",
    "def get_token():\n",
    "    headers = {\n",
    "        'authority': 'clerk.suno.ai',\n",
    "        'accept': '*/*',\n",
    "        'accept-language': 'en-BR,en;q=0.9,pt-BR;q=0.8,pt;q=0.7,es-ES;q=0.6,es;q=0.5,de-LI;q=0.4,de;q=0.3,en-GB;q=0.2,en-US;q=0.1,sk;q=0.1',\n",
    "        'content-type': 'application/x-www-form-urlencoded',\n",
    "        #'cookie': 'Adquire this from your network tab for Suno',\n",
    "        'origin': 'https://app.suno.ai',\n",
    "        'referer': 'https://app.suno.ai/',\n",
    "        'sec-ch-ua': '\"Chromium\";v=\"122\", \"Not(A:Brand\";v=\"24\", \"Google Chrome\";v=\"122\"',\n",
    "        'sec-ch-ua-mobile': '?0',\n",
    "        'sec-ch-ua-platform': '\"macOS\"',\n",
    "        'sec-fetch-dest': 'empty',\n",
    "        'sec-fetch-mode': 'cors',\n",
    "        'sec-fetch-site': 'same-site',\n",
    "        'user-agent': 'Mozilla/5.0 (Macintosh; Intel Mac OS X 10_15_7) AppleWebKit/537.36 (KHTML, like Gecko) Chrome/122.0.0.0 Safari/537.36',\n",
    "    }\n",
    "    #Adquire this from your logged-in session on Suno\n",
    "    response = requests.post('https://clerk.suno.ai/v1/client/sessions...', headers=headers)\n",
    "    print(response)\n",
    "    token = response.json()[\"jwt\"]\n",
    "    return token"
   ]
  },
  {
   "cell_type": "code",
   "execution_count": 4,
   "metadata": {},
   "outputs": [],
   "source": [
    "def get_model_id(general_prompt=\"\", lyrics=\"\", style=\"\", instrumental=False):\n",
    "    token = get_token()\n",
    "    url = \"https://studio-api.suno.ai/api/generate/v2/\"\n",
    "\n",
    "    headers = {\n",
    "        \"authority\": \"studio-api.suno.ai\",\n",
    "        \"accept\": \"*/*\",\n",
    "        \"accept-language\": \"en-BR,en;q=0.9,pt-BR;q=0.8,pt;q=0.7,es-ES;q=0.6,es;q=0.5,de-LI;q=0.4,de;q=0.3,en-GB;q=0.2,en-US;q=0.1,sk;q=0.1\",\n",
    "        \"authorization\": f\"Bearer {token}\",\n",
    "        \"content-type\": \"text/plain;charset=UTF-8\",\n",
    "        \"origin\": \"https://app.suno.ai\",\n",
    "        \"referer\": \"https://app.suno.ai/\",\n",
    "        \"sec-ch-ua\": '\"Not_A Brand\";v=\"8\", \"Chromium\";v=\"120\", \"Google Chrome\";v=\"120\"',\n",
    "        \"sec-ch-ua-mobile\": \"?0\",\n",
    "        \"sec-ch-ua-platform\": '\"macOS\"',\n",
    "        \"sec-fetch-dest\": \"empty\",\n",
    "        \"sec-fetch-mode\": \"cors\",\n",
    "        \"sec-fetch-site\": \"same-site\",\n",
    "        \"user-agent\": \"Mozilla/5.0 (Macintosh; Intel Mac OS X 10_15_7) AppleWebKit/537.36 (KHTML, like Gecko) Chrome/120.0.0.0 Safari/537.36\",\n",
    "    }\n",
    "    if(lyrics):\n",
    "        data = f'{{\"mv\":\"chirp-v3-alpha\",\"prompt\":\"{lyrics}\",\"tags\":\"{style}\",\"make_instrumental\":{str(instrumental).lower()}}}'\n",
    "    else:\n",
    "        data = f'{{\"gpt_description_prompt\":\"{general_prompt}\",\"mv\":\"chirp-v3-alpha\",\"prompt\":\"\",\"make_instrumental\":{str(instrumental).lower()}}}'\n",
    "    \n",
    "    print(data)\n",
    "    response = requests.post(url, headers=headers, data=data)\n",
    "    task_response = response.json()\n",
    "    clip_ids = []\n",
    "    for clip in task_response[\"clips\"]:\n",
    "        clip_ids.append(clip[\"id\"])\n",
    "    return clip_ids"
   ]
  },
  {
   "cell_type": "code",
   "execution_count": 5,
   "metadata": {},
   "outputs": [],
   "source": [
    "def get_feed(clip_ids):\n",
    "\n",
    "    def match_results(clip_ids, feed_response):\n",
    "        result_data = []\n",
    "        for clip_id in clip_ids:\n",
    "            for model_in_feed in feed_response:\n",
    "                if(model_in_feed[\"id\"] == clip_id):\n",
    "                    if(model_in_feed[\"audio_url\"]):\n",
    "                        result_data.append(model_in_feed)\n",
    "        return result_data if len(result_data) == 2 else False\n",
    "\n",
    "    token = get_token()\n",
    "    headers = {\n",
    "        'authority': 'studio-api.suno.ai',\n",
    "        'accept': '*/*',\n",
    "        'accept-language': 'en-BR,en;q=0.9,pt-BR;q=0.8,pt;q=0.7,es-ES;q=0.6,es;q=0.5,de-LI;q=0.4,de;q=0.3,en-GB;q=0.2,en-US;q=0.1,sk;q=0.1',\n",
    "        'authorization': f'Bearer {token}',\n",
    "        'origin': 'https://app.suno.ai',\n",
    "        'referer': 'https://app.suno.ai/',\n",
    "        'sec-ch-ua': '\"Not_A Brand\";v=\"8\", \"Chromium\";v=\"120\", \"Google Chrome\";v=\"120\"',\n",
    "        'sec-ch-ua-mobile': '?0',\n",
    "        'sec-ch-ua-platform': '\"macOS\"',\n",
    "        'sec-fetch-dest': 'empty',\n",
    "        'sec-fetch-mode': 'cors',\n",
    "        'sec-fetch-site': 'same-site',\n",
    "        'user-agent': 'Mozilla/5.0 (Macintosh; Intel Mac OS X 10_15_7) AppleWebKit/537.36 (KHTML, like Gecko) Chrome/120.0.0.0 Safari/537.36',\n",
    "    }\n",
    "\n",
    "    response = requests.get('https://studio-api.suno.ai/api/feed/', headers=headers)\n",
    "    \n",
    "    feed_response = response.json()\n",
    "    return match_results(clip_ids, feed_response)"
   ]
  },
  {
   "cell_type": "code",
   "execution_count": 6,
   "metadata": {},
   "outputs": [],
   "source": [
    "\n",
    "def get_suno_songs(prompt=\"\", instrumental=False, lyrics=\"\", style=\"\"):\n",
    "    clip_ids = get_model_id(prompt, lyrics, style, instrumental)\n",
    "    counter = 0\n",
    "\n",
    "    while True:\n",
    "        matched_results = get_feed(clip_ids)\n",
    "        if(matched_results):\n",
    "            break\n",
    "        else:\n",
    "            counter+=1\n",
    "            if(counter > 250):\n",
    "                print(\"Aborted after 250s\")\n",
    "                break\n",
    "            sleep(1)\n",
    "\n",
    "    audio_urls = []\n",
    "    for result in matched_results:\n",
    "        audio_urls.append(result[\"audio_url\"])\n",
    "    return audio_urls"
   ]
  },
  {
   "cell_type": "code",
   "execution_count": 90,
   "metadata": {},
   "outputs": [
    {
     "name": "stdout",
     "output_type": "stream",
     "text": [
      "{\"mv\":\"chirp-v3-alpha\",\"prompt\":\"fuck artificial intelligence\",\"tags\":\"dope hip-hop\",\"make_instrumental\":false}\n"
     ]
    },
    {
     "data": {
      "text/plain": [
       "['https://audiopipe.suno.ai/?item_id=6a60adde-776f-457b-b74b-30fde2eb5041',\n",
       " 'https://audiopipe.suno.ai/?item_id=6f5adb3a-3df3-41cb-9da3-de2f1177482b']"
      ]
     },
     "execution_count": 90,
     "metadata": {},
     "output_type": "execute_result"
    }
   ],
   "source": [
    "lyrics = '''fuck artificial intelligence'''\n",
    "get_suno_songs(style=\"8-bit chipmunk dogs\", )"
   ]
  }
 ],
 "metadata": {
  "kernelspec": {
   "display_name": "Python 3",
   "language": "python",
   "name": "python3"
  },
  "language_info": {
   "codemirror_mode": {
    "name": "ipython",
    "version": 3
   },
   "file_extension": ".py",
   "mimetype": "text/x-python",
   "name": "python",
   "nbconvert_exporter": "python",
   "pygments_lexer": "ipython3",
   "version": "3.11.6"
  }
 },
 "nbformat": 4,
 "nbformat_minor": 2
}
